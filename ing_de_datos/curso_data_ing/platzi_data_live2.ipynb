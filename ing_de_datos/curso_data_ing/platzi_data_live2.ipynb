{
 "cells": [
  {
   "cell_type": "code",
   "execution_count": 73,
   "metadata": {},
   "outputs": [
    {
     "name": "stdout",
     "output_type": "stream",
     "text": [
      "Titular:Por coronavirus | Opep convoca una sesión para este martes y miércoles | Link:https://nuevodia.com.ve/2020/02/02/por-coronavirus-opep-convoca-una-sesion-para-este-martes-y-miercoles/\n",
      "Titular:Equipo de la CIDH arribará al país este 4-F | Link:https://nuevodia.com.ve/2020/02/02/equipo-de-la-cidh-arribara-al-pais-este-4-f/\n",
      "Titular:Conindustria aboga por un tipo de cambio totalmente libre | Link:https://nuevodia.com.ve/2020/02/02/conindustria-aboga-por-un-tipo-de-cambio-totalmente-libre/\n",
      "Titular:Descartan posible presencia de coronavirus en Venezuela | Link:https://nuevodia.com.ve/2020/02/02/descartan-posible-presencia-de-coronavirus-en-venezuela/\n",
      "Titular:Te lo mostramos | Abren hospital construido para pacientes con coronavirus | Link:https://nuevodia.com.ve/2020/02/02/te-lo-mostramos-abren-hospital-construido-para-pacientes-con-coronavirus/\n",
      "Titular:Voleibol de playa sigue en la ruta a Tokio 2020 | Link:https://nuevodia.com.ve/2020/02/02/voleibol-de-playa-sigue-en-la-ruta-a-tokio-2020/\n",
      "Titular:Rompiendo récords | Yulimar Rojas supera marca venezolana en longitud de pista cubierta | Link:https://nuevodia.com.ve/2020/02/02/rompiendo-records-yulimar-rojas-supera-marca-venezolana-en-longitud-de-pista-cubierta/\n",
      "Titular:Vinotinto futsal no pudo y cae 2-1 ante Argentina | Link:https://nuevodia.com.ve/2020/02/02/vinotinto-futsal-no-pudo-y-cae-2-1-ante-argentina/\n",
      "Titular:Super Bowl 2020 | Horarios y canales dónde pasarán la gran final | Link:https://nuevodia.com.ve/2020/02/02/super-bowl-2020-horarios-y-canales-donde-pasaran-la-gran-final/\n",
      "Titular:En acción | Machís anotó en la victoria ante el Español | Link:https://nuevodia.com.ve/2020/02/01/en-accion-machis-anoto-en-la-victoria-ante-el-espanol/\n",
      "Titular:Crónica de un derbi | El Real Madrid no perdonó y ganó | Link:https://nuevodia.com.ve/2020/02/01/cronica-de-un-derbi-el-real-madrid-no-perdono-y-gano/\n",
      "Titular:En video | Veneran a Kobe Bryant en partido de los Lakers | Link:https://nuevodia.com.ve/2020/02/01/en-video-veneran-a-kobe-bryant-en-partido-de-los-lakers/\n",
      "Titular:El kitesurf se apodera de las playas de Lechería con el Festival VK 281 | Link:https://nuevodia.com.ve/2020/01/31/el-kitesurf-se-apodera-de-las-playas-de-lecheria-con-el-festival-vk-281/\n",
      "Titular:Complejo de piscina será controlada por una Junta Administradora | Link:https://nuevodia.com.ve/2020/01/31/complejo-de-piscina-sera-controlada-por-una-junta-administradora/\n",
      "Titular:Emil Jiménez y David Arrieta a la Serie del Caribe | Link:https://nuevodia.com.ve/2020/01/31/emil-jimenez-y-david-arrieta-a-la-serie-del-caribe/\n",
      "Titular:Más de 260 mil boletos se vendieron en postemporada de la LVBP | Link:https://nuevodia.com.ve/2020/01/30/mas-de-260-mil-boletos-se-vendieron-en-postemporada-de-la-lvbp/\n",
      "Titular:Edgardo Alfonzo al Salón de la Fama de los Mets | Link:https://nuevodia.com.ve/2020/01/29/edgardo-alfonzo-al-salon-de-la-fama-de-los-mets/\n",
      "Titular:Coro| Doctor Yaso forma 20 payasos humanitarios | Link:https://nuevodia.com.ve/2020/02/01/coro-doctor-yaso-forma-20-payasos-humanitarios/\n",
      "Titular:Dictan curso de dulcería en comedor-escuela “Mama Rosa” | Link:https://nuevodia.com.ve/2020/02/01/dictan-curso-de-dulceria-en-comedor-escuela-mama-rosa/\n",
      "Titular:Red Intercircuital Los Taques homenajeó a docentes | Link:https://nuevodia.com.ve/2020/01/31/red-intercircuital-los-taques-homenajeo-a-docentes/\n",
      "Titular:Entregan morrales a estudiantes de la escuela Padre Román de Cumarebo | Link:https://nuevodia.com.ve/2020/01/30/entregan-morrales-a-estudiantes-de-la-escuela-padre-roman-de-cumarebo/\n",
      "Titular:Brigadas ambientales estudiantiles realizaron parada intercircuital | Link:https://nuevodia.com.ve/2020/01/30/brigadas-ambientales-estudiantiles-realizaron-parada-intercircuital/\n"
     ]
    }
   ],
   "source": [
    "# ---*--- coding:utf-8 ---*---\n",
    "     \n",
    "import bs4\n",
    "import requests\n",
    "\n",
    "response = requests.get(\"https://nuevodia.com.ve/\")\n",
    "\n",
    "soup = bs4.BeautifulSoup(response.text, 'html.parser')\n",
    "\n",
    "noticias = soup.select('.thumb-title > a')\n",
    "\n",
    "links = []\n",
    "title = []\n",
    "contador = 0\n",
    "for articulo in range(len(noticias)):\n",
    "    links.append(noticias[articulo]['href'])\n",
    "    title.append(noticias[articulo].get_text())\n",
    "    contador = contador + 1\n",
    "\n",
    "for i in range(contador):\n",
    "    print('Titular: {} | Link:{}'.format(title[i], links[i]))"
   ]
  },
  {
   "cell_type": "code",
   "execution_count": null,
   "metadata": {},
   "outputs": [],
   "source": []
  }
 ],
 "metadata": {
  "kernelspec": {
   "display_name": "Python 3",
   "language": "python",
   "name": "python3"
  },
  "language_info": {
   "codemirror_mode": {
    "name": "ipython",
    "version": 3
   },
   "file_extension": ".py",
   "mimetype": "text/x-python",
   "name": "python",
   "nbconvert_exporter": "python",
   "pygments_lexer": "ipython3",
   "version": "3.7.4"
  }
 },
 "nbformat": 4,
 "nbformat_minor": 2
}
